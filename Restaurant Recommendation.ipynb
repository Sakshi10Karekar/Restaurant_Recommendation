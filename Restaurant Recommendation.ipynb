{
  "nbformat": 4,
  "nbformat_minor": 0,
  "metadata": {
    "colab": {
      "provenance": []
    },
    "kernelspec": {
      "name": "python3",
      "display_name": "Python 3"
    },
    "language_info": {
      "name": "python"
    }
  },
  "cells": [
    {
      "cell_type": "markdown",
      "source": [
        "Restaurant Recommendation\n"
      ],
      "metadata": {
        "id": "57wR3PIE_ti4"
      }
    },
    {
      "cell_type": "code",
      "source": [
        "import pandas as pd\n",
        "from sklearn.feature_extraction.text import TfidfVectorizer\n",
        "from sklearn.metrics.pairwise import linear_kernel\n",
        "\n",
        "df = pd.read_csv('/content/Dataset .csv')\n",
        "\n",
        "df = df.dropna()\n",
        "df['Cuisines'] = df['Cuisines'].astype('str')\n",
        "df['Price range'] = df['Price range'].astype('str')\n",
        "# Step 2\n",
        "user_preferences = {\n",
        "    'Cuisines': 'Japanese',\n",
        "    'Price range': 'Medium',\n",
        "}\n",
        "\n",
        "# Step 3:\n",
        "df['CombinedFeatures'] = df['Cuisines'] + ' ' + df['Price range']\n",
        "\n",
        "tfidf_vectorizer = TfidfVectorizer(stop_words='english')\n",
        "tfidf_matrix = tfidf_vectorizer.fit_transform(df['CombinedFeatures'])\n",
        "def get_recommendations(user_preferences, cosine_sim_matrix, df):\n",
        "    user_input = ' '.join(user_preferences.values())\n",
        "    user_input_tfidf = tfidf_vectorizer.transform([user_input])\n",
        "    cosine_sim_user_input = linear_kernel(user_input_tfidf, tfidf_matrix).flatten()\n",
        "    recommendation_indices = cosine_sim_user_input.argsort()[:-4:-1]\n",
        "    return df['Restaurant Name'].iloc[recommendation_indices]\n",
        "#step 4:\n",
        "recommendations = get_recommendations(user_preferences, tfidf_matrix, df)\n",
        "print(\"Restaurant Recommendations:\")\n",
        "print(recommendations)\n"
      ],
      "metadata": {
        "colab": {
          "base_uri": "https://localhost:8080/"
        },
        "id": "5x-UJBsRBtgX",
        "outputId": "9f7b7af2-1df5-4e67-fb41-e4d877141efe"
      },
      "execution_count": null,
      "outputs": [
        {
          "output_type": "stream",
          "name": "stdout",
          "text": [
            "Restaurant Recommendations:\n",
            "5417    Manami Japanese Restaurant\n",
            "1466                       Kuuraku\n",
            "2171                         Tokyo\n",
            "Name: Restaurant Name, dtype: object\n"
          ]
        }
      ]
    }
  ]
}